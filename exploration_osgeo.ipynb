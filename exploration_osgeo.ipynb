{
 "cells": [
  {
   "cell_type": "markdown",
   "metadata": {},
   "source": [
    "### df_loc (Canada)\n",
    "\n",
    "We will use census Distribution Areas as proxies for neighborhoods for cities in Canada.  In previous work where the Forward Sortation Areas (first three characters of the postal code) were used as neighborhood proxies, the sizes of many areas were quite large (several kilometers across) and therefore are likely internally non-homogeneous from a features perspective at the walking-distance (500 m) length scale.  To convert to neighborhood names we can look up the associated census tract as seen on [this](https://en.wikipedia.org/wiki/Demographics_of_Toronto_neighbourhoods) Wikipedia page.\n",
    "\n",
    "File lda_000b16g_e.gml was downloaded from the [Statistics Canada: Boundary Files](https://www12.statcan.gc.ca/census-recensement/2011/geo/bound-limit/bound-limit-2016-eng.cfm) site.\n",
    "\n",
    "Exploring the gml file and computing the area and centroid of the distribution areas can be done using the [osgeo library](https://pcjericks.github.io/py-gdalogr-cookbook/geometry.html#quarter-polygon-and-create-centroids)."
   ]
  },
  {
   "cell_type": "markdown",
   "metadata": {},
   "source": [
    "File T1901EN.CSV was downloaded from the [Canadian Census Data](https://www12.statcan.gc.ca/census-recensement/2016/dp-pd/hlt-fst/pd-pl/comprehensive.cfm) site"
   ]
  },
  {
   "cell_type": "markdown",
   "metadata": {},
   "source": [
    "Exploring the gml file and computing the area and centroid of the distribution areas can be done using the [osgeo library](https://pcjericks.github.io/py-gdalogr-cookbook/geometry.html#quarter-polygon-and-create-centroids).\n",
    "\n",
    "    '''python\n",
    "\n",
    "    # Exporting to geojson\n",
    "    from osgeo import ogr\n",
    "\n",
    "    # Create test polygon\n",
    "    ring = ogr.Geometry(ogr.wkbLinearRing)\n",
    "    ring.AddPoint(1179091.1646903288, 712782.8838459781)\n",
    "    ring.AddPoint(1161053.0218226474, 667456.2684348812)\n",
    "    ring.AddPoint(1214704.933941905, 641092.8288590391)\n",
    "    ring.AddPoint(1228580.428455506, 682719.3123998424)\n",
    "    ring.AddPoint(1218405.0658121984, 721108.1805541387)\n",
    "    ring.AddPoint(1179091.1646903288, 712782.8838459781)\n",
    "    poly = ogr.Geometry(ogr.wkbPolygon)\n",
    "    poly.AddGeometry(ring)\n",
    "\n",
    "    geojson = poly.ExportToJson()\n",
    "    print geojson\n",
    "    \n",
    "    \n",
    "    '''python\n",
    "    # Get centroid\n",
    "    import ogr\n",
    "\n",
    "        # Given a test polygon\n",
    "    poly_Wkt= \"POLYGON((-107.42631019589980212 40.11971708125970082,-107.42455436683293613 40.12061219666851741,-107.42020981542387403 40.12004414402532859,-107.41789122063043749 40.12149008687303819,-107.41419947746419439 40.11811617239460048,-107.41915181585792993 40.11761695654455906,-107.41998470913324581 40.11894245264452508,-107.42203317637793702 40.1184088144647788,-107.42430674991324224 40.1174448122981957,-107.42430674991324224 40.1174448122981957,-107.42631019589980212 40.11971708125970082))\"\n",
    "    geom_poly = ogr.CreateGeometryFromWkt(poly_Wkt)\n",
    "\n",
    "\n",
    "    geom_poly_envelope = geom_poly.GetEnvelope()\n",
    "    minX = geom_poly_envelope[0]\n",
    "    minY = geom_poly_envelope[2]\n",
    "    maxX = geom_poly_envelope[1]\n",
    "    maxY = geom_poly_envelope[3]\n",
    "\n",
    "    '''\n",
    "    coord0----coord1----coord2\n",
    "    |           |           |\n",
    "    coord3----coord4----coord5\n",
    "    |           |           |\n",
    "    coord6----coord7----coord8\n",
    "    '''\n",
    "    coord0 = minX, maxY\n",
    "    coord1 = minX+(maxX-minX)/2, maxY\n",
    "    coord2 = maxX, maxY\n",
    "    coord3 = minX, minY+(maxY-minY)/2\n",
    "    coord4 = minX+(maxX-minX)/2, minY+(maxY-minY)/2\n",
    "    coord5 = maxX, minY+(maxY-minY)/2\n",
    "    coord6 = minX, minY\n",
    "    coord7 = minX+(maxX-minX)/2, minY\n",
    "    coord8 = maxX, minY\n",
    "\n",
    "    ringTopLeft = ogr.Geometry(ogr.wkbLinearRing)\n",
    "    ringTopLeft.AddPoint_2D(*coord0)\n",
    "    ringTopLeft.AddPoint_2D(*coord1)\n",
    "    ringTopLeft.AddPoint_2D(*coord4)\n",
    "    ringTopLeft.AddPoint_2D(*coord3)\n",
    "    ringTopLeft.AddPoint_2D(*coord0)\n",
    "    polyTopLeft = ogr.Geometry(ogr.wkbPolygon)\n",
    "    polyTopLeft.AddGeometry(ringTopLeft)\n",
    "\n",
    "\n",
    "    quaterPolyTopLeft = polyTopLeft.Intersection(geom_poly)\n",
    "    centroidTopLeft = quaterPolyTopLeft.Centroid()\n",
    "    '''\n",
    "    \n",
    "    '''python\n",
    "    # Create geometry from gml\n",
    "    from osgeo import ogr\n",
    "\n",
    "    gml = \"\"\"<gml:Point xmlns:gml=\"http://www.opengis.net/gml\"><gml:coordinates>108420.33,753808.59</gml:coordinates></gml:Point>\"\"\"\n",
    "    point = ogr.CreateGeometryFromGML(gml)\n",
    "    print \"%d,%d\" % (point.GetX(), point.GetY())\n",
    "    '''\n",
    "Note: must install gdal module"
   ]
  },
  {
   "cell_type": "code",
   "execution_count": 31,
   "metadata": {},
   "outputs": [
    {
     "name": "stdout",
     "output_type": "stream",
     "text": [
      "Wall time: 1.82 s\n"
     ]
    }
   ],
   "source": [
    "%%time\n",
    "\n",
    "from osgeo import ogr\n",
    "\n",
    "with open('lda_000b16g_e.gml','r') as f:\n",
    "    geo_gml = f.read()"
   ]
  },
  {
   "cell_type": "code",
   "execution_count": 35,
   "metadata": {},
   "outputs": [
    {
     "data": {
      "text/plain": [
       "465102295"
      ]
     },
     "execution_count": 35,
     "metadata": {},
     "output_type": "execute_result"
    }
   ],
   "source": [
    "len(geo_gml)"
   ]
  },
  {
   "cell_type": "code",
   "execution_count": 39,
   "metadata": {},
   "outputs": [
    {
     "name": "stdout",
     "output_type": "stream",
     "text": [
      "None\n"
     ]
    }
   ],
   "source": [
    "g = ogr.CreateGeometryFromGML(geo_gml)\n",
    "print(g)"
   ]
  },
  {
   "cell_type": "code",
   "execution_count": 32,
   "metadata": {},
   "outputs": [],
   "source": [
    "from osgeo import ogr\n",
    "\n",
    "source = ogr.Open('lda_000b16g_e.gml')"
   ]
  },
  {
   "cell_type": "code",
   "execution_count": 85,
   "metadata": {},
   "outputs": [
    {
     "data": {
      "text/plain": [
       "osgeo.ogr.DataSource"
      ]
     },
     "execution_count": 85,
     "metadata": {},
     "output_type": "execute_result"
    }
   ],
   "source": [
    "type(source)"
   ]
  },
  {
   "cell_type": "code",
   "execution_count": 36,
   "metadata": {},
   "outputs": [
    {
     "data": {
      "text/plain": [
       "<osgeo.ogr.Layer; proxy of <Swig Object of type 'OGRLayerShadow *' at 0x0000023F3C018360> >"
      ]
     },
     "execution_count": 36,
     "metadata": {},
     "output_type": "execute_result"
    }
   ],
   "source": [
    "dir(source)\n",
    "s2=source.GetLayer(0)\n",
    "s2"
   ]
  },
  {
   "cell_type": "code",
   "execution_count": 50,
   "metadata": {},
   "outputs": [
    {
     "data": {
      "text/plain": [
       "56589"
      ]
     },
     "execution_count": 50,
     "metadata": {},
     "output_type": "execute_result"
    }
   ],
   "source": [
    "len(s2)"
   ]
  },
  {
   "cell_type": "code",
   "execution_count": 56,
   "metadata": {},
   "outputs": [
    {
     "data": {
      "text/plain": [
       "<osgeo.ogr.Feature; proxy of <Swig Object of type 'OGRFeatureShadow *' at 0x0000023F3BB6F6C0> >"
      ]
     },
     "execution_count": 56,
     "metadata": {},
     "output_type": "execute_result"
    }
   ],
   "source": [
    "s4 = s2[0]\n",
    "s4"
   ]
  },
  {
   "cell_type": "code",
   "execution_count": 60,
   "metadata": {},
   "outputs": [
    {
     "data": {
      "text/plain": [
       "<osgeo.ogr.Geometry; proxy of <Swig Object of type 'OGRGeometryShadow *' at 0x0000023F3C018BA0> >"
      ]
     },
     "execution_count": 60,
     "metadata": {},
     "output_type": "execute_result"
    }
   ],
   "source": [
    "s4.GetGeometryRef()"
   ]
  },
  {
   "cell_type": "code",
   "execution_count": 89,
   "metadata": {},
   "outputs": [
    {
     "name": "stdout",
     "output_type": "stream",
     "text": [
      "POLYGON ((8976851.14856922 2149576.54285611,8976818.14856922 2149509.53714611,8976752.55428422 2149542.32857111,8976560.31999922 2149661.59143111,8976490.55428422 2149705.07428611,8976354.78571422 2149785.82285611,8976272.75142922 2149821.67714611,8976190.13714422 2149866.79143111,8976195.66571422 2149883.50571611,8976260.85714422 2150016.91714611,8976273.13142922 2150051.04285611,8976272.92285422 2150083.44285611,8976265.71428422 2150121.91143111,8976382.41428422 2150157.02571611,8976439.10285422 2150180.22000111,8976482.51714422 2150206.11714611,8976587.63714422 2150288.98000111,8976596.70571422 2150291.94857111,8976668.80571422 2150336.58000111,8976722.28571422 2150362.41714611,8976780.99428422 2150389.63143111,8976892.28285422 2150426.98857111,8977012.79714422 2150458.65714611,8977072.04571422 2150475.00571611,8977101.92571422 2150483.54571611,8977135.12571422 2150492.93428611,8977335.04285422 2150545.85714611,8977346.74571422 2150484.42285611,8977358.09428422 2150430.22571611,8977363.71428422 2150395.58857111,8977361.20285422 2150378.70000111,8977348.35999922 2150350.41143111,8977341.52285422 2150342.64000111,8977277.22571422 2150260.51143111,8977210.83428422 2150165.92285611,8977155.73714422 2150071.28857111,8977048.44856922 2149896.68000111,8977020.45428422 2149858.42000111,8976996.23428422 2149811.68285611,8976851.14856922 2149576.54285611))\n"
     ]
    }
   ],
   "source": [
    "print(s4.GetGeometryRef())"
   ]
  },
  {
   "cell_type": "code",
   "execution_count": 99,
   "metadata": {},
   "outputs": [
    {
     "name": "stdout",
     "output_type": "stream",
     "text": [
      "PROJCS[\"NAD83 / Statistics Canada Lambert\",\n",
      "    GEOGCS[\"NAD83\",\n",
      "        DATUM[\"North_American_Datum_1983\",\n",
      "            SPHEROID[\"GRS 1980\",6378137,298.257222101,\n",
      "                AUTHORITY[\"EPSG\",\"7019\"]],\n",
      "            AUTHORITY[\"EPSG\",\"6269\"]],\n",
      "        PRIMEM[\"Greenwich\",0,\n",
      "            AUTHORITY[\"EPSG\",\"8901\"]],\n",
      "        UNIT[\"degree\",0.0174532925199433,\n",
      "            AUTHORITY[\"EPSG\",\"9122\"]],\n",
      "        AUTHORITY[\"EPSG\",\"4269\"]],\n",
      "    PROJECTION[\"Lambert_Conformal_Conic_2SP\"],\n",
      "    PARAMETER[\"latitude_of_origin\",63.390675],\n",
      "    PARAMETER[\"central_meridian\",-91.8666666666667],\n",
      "    PARAMETER[\"standard_parallel_1\",49],\n",
      "    PARAMETER[\"standard_parallel_2\",77],\n",
      "    PARAMETER[\"false_easting\",6200000],\n",
      "    PARAMETER[\"false_northing\",3000000],\n",
      "    UNIT[\"metre\",1,\n",
      "        AUTHORITY[\"EPSG\",\"9001\"]],\n",
      "    AXIS[\"Easting\",EAST],\n",
      "    AXIS[\"Northing\",NORTH],\n",
      "    AUTHORITY[\"EPSG\",\"3347\"]]\n",
      "PROJCS[\"NAD83 / Statistics Canada Lambert\",\n",
      "    GEOGCS[\"NAD83\",\n",
      "        DATUM[\"North_American_Datum_1983\",\n",
      "            SPHEROID[\"GRS 1980\",6378137,298.257222101,\n",
      "                AUTHORITY[\"EPSG\",\"7019\"]],\n",
      "            AUTHORITY[\"EPSG\",\"6269\"]],\n",
      "        PRIMEM[\"Greenwich\",0,\n",
      "            AUTHORITY[\"EPSG\",\"8901\"]],\n",
      "        UNIT[\"degree\",0.0174532925199433,\n",
      "            AUTHORITY[\"EPSG\",\"9122\"]],\n",
      "        AUTHORITY[\"EPSG\",\"4269\"]],\n",
      "    PROJECTION[\"Lambert_Conformal_Conic_2SP\"],\n",
      "    PARAMETER[\"latitude_of_origin\",63.390675],\n",
      "    PARAMETER[\"central_meridian\",-91.8666666666667],\n",
      "    PARAMETER[\"standard_parallel_1\",49],\n",
      "    PARAMETER[\"standard_parallel_2\",77],\n",
      "    PARAMETER[\"false_easting\",6200000],\n",
      "    PARAMETER[\"false_northing\",3000000],\n",
      "    UNIT[\"metre\",1,\n",
      "        AUTHORITY[\"EPSG\",\"9001\"]],\n",
      "    AXIS[\"Easting\",EAST],\n",
      "    AXIS[\"Northing\",NORTH],\n",
      "    AUTHORITY[\"EPSG\",\"3347\"]]\n"
     ]
    }
   ],
   "source": [
    "print(s2.GetSpatialRef())\n",
    "print(s4.GetGeometryRef().GetSpatialReference())"
   ]
  },
  {
   "cell_type": "code",
   "execution_count": 107,
   "metadata": {},
   "outputs": [
    {
     "name": "stdout",
     "output_type": "stream",
     "text": [
      "POINT (47.561837173953 -52.7652224969758)\n",
      "POINT (47.561837173953 -52.7652224969758)\n",
      "47.561837173952966 -52.765222496975774\n"
     ]
    }
   ],
   "source": [
    "from osgeo import ogr\n",
    "from osgeo import osr\n",
    "\n",
    "inref = s4.GetGeometryRef().GetSpatialReference()\n",
    "\n",
    "outref = osr.SpatialReference()\n",
    "outref.ImportFromEPSG(4326)\n",
    "\n",
    "transform = osr.CoordinateTransformation(inref, outref)\n",
    "\n",
    "point = s4.GetGeometryRef().Centroid() # ogr.CreateGeometryFromWkt(\"POINT (1120351.57 741921.42)\")\n",
    "point.Transform(transform)\n",
    "\n",
    "print(point.ExportToWkt())\n",
    "print(point)\n",
    "print(point.GetX(), point.GetY())"
   ]
  },
  {
   "cell_type": "code",
   "execution_count": 61,
   "metadata": {},
   "outputs": [
    {
     "data": {
      "text/plain": [
       "<osgeo.ogr.Geometry; proxy of <Swig Object of type 'OGRGeometryShadow *' at 0x0000023F3C0181B0> >"
      ]
     },
     "execution_count": 61,
     "metadata": {},
     "output_type": "execute_result"
    }
   ],
   "source": [
    "s4.GetGeometryRef().Centroid()"
   ]
  },
  {
   "cell_type": "code",
   "execution_count": 91,
   "metadata": {},
   "outputs": [
    {
     "name": "stdout",
     "output_type": "stream",
     "text": [
      "POINT (8976786.90073827 2150052.16961121)\n"
     ]
    }
   ],
   "source": [
    "print(s4.GetGeometryRef().Centroid())"
   ]
  },
  {
   "cell_type": "code",
   "execution_count": 94,
   "metadata": {},
   "outputs": [
    {
     "data": {
      "text/plain": [
       "'{ \"type\": \"Point\", \"coordinates\": [ 8976786.900738267228007, 2150052.169611209537834 ] }'"
      ]
     },
     "execution_count": 94,
     "metadata": {},
     "output_type": "execute_result"
    }
   ],
   "source": [
    "s4.GetGeometryRef().Centroid().ExportToJson()"
   ]
  },
  {
   "cell_type": "code",
   "execution_count": 62,
   "metadata": {},
   "outputs": [
    {
     "data": {
      "text/plain": [
       "'POINT (8976786.90073827 2150052.16961121)'"
      ]
     },
     "execution_count": 62,
     "metadata": {},
     "output_type": "execute_result"
    }
   ],
   "source": [
    "s4.GetGeometryRef().Centroid().ExportToWkt()"
   ]
  },
  {
   "cell_type": "code",
   "execution_count": 88,
   "metadata": {},
   "outputs": [
    {
     "data": {
      "text/plain": [
       "610130.9356462955"
      ]
     },
     "execution_count": 88,
     "metadata": {},
     "output_type": "execute_result"
    }
   ],
   "source": [
    "s4.GetGeometryRef().Area()"
   ]
  },
  {
   "cell_type": "code",
   "execution_count": 63,
   "metadata": {},
   "outputs": [
    {
     "data": {
      "text/plain": [
       "<osgeo.ogr.FeatureDefn; proxy of <Swig Object of type 'OGRFeatureDefnShadow *' at 0x0000023F3C018450> >"
      ]
     },
     "execution_count": 63,
     "metadata": {},
     "output_type": "execute_result"
    }
   ],
   "source": [
    "s2.GetLayerDefn()"
   ]
  },
  {
   "cell_type": "code",
   "execution_count": 127,
   "metadata": {},
   "outputs": [
    {
     "name": "stdout",
     "output_type": "stream",
     "text": [
      "gml_id   \t idb20585c1-6855-4944-82d0-bd4a9e0ad78e\n",
      "DAUID   \t 10010244\n",
      "PRUID   \t 10\n",
      "PRNAME   \t Newfoundland and Labrador / Terre-Neuve-et-Labrador\n",
      "CDUID   \t 1001\n",
      "CDNAME   \t Division No.  1\n",
      "CDTYPE   \t CDR\n",
      "CCSUID   \t 1001519\n",
      "CCSNAME   \t St. John's\n",
      "CSDUID   \t 1001519\n",
      "CSDNAME   \t St. John's\n",
      "CSDTYPE   \t CY\n",
      "ERUID   \t 1010\n",
      "ERNAME   \t Avalon Peninsula\n",
      "SACCODE   \t 1\n",
      "SACTYPE   \t 1\n",
      "CMAUID   \t 1\n",
      "CMAPUID   \t 10001\n",
      "CMANAME   \t St. John's\n",
      "CMATYPE   \t B\n",
      "CTUID   \t 10004\n",
      "CTNAME   \t 4\n",
      "ADAUID   \t 10010014\n"
     ]
    }
   ],
   "source": [
    "layerDefinition = s2.GetLayerDefn()\n",
    "\n",
    "for i in range(layerDefinition.GetFieldCount()):\n",
    "    print(layerDefinition.GetFieldDefn(i).GetName(),f\"  \\t\",s2.GetFeature(0).GetFieldAsString(s2.GetFeature(0).GetFieldIndex(layerDefinition.GetFieldDefn(i).GetName())))"
   ]
  },
  {
   "cell_type": "markdown",
   "metadata": {},
   "source": [
    "See the feature name definitions [here](https://www150.statcan.gc.ca/n1/pub/92-160-g/2016002/tbl/tbl_4.13-eng.htm).\n",
    "But this is for 2011.\n",
    "\n",
    "The meaning of prefixes for NAME (N), UID (U), PUID (PU), TYPE (T), and CODE (C):\n",
    "* DA U Dissemination Area unique identifier (composed of the 2-digit province/territory unique identifier followed by the 2-digit census division code and the 4-digit dissemination area code)\n",
    "* PR U,N Province or territory\n",
    "* CD U,N,T Census Division\n",
    "* CCS U,N Census Consolidated Subdivision\n",
    "* CSD U,N,T Census Subdivision\n",
    "* ER U,N Economic Region\n",
    "* SAC T,C Statistical Area Classification: Part of are a component of a census metropolitan area, a census agglomeration, a census metropolitan influenced zone or the territories?\n",
    "* CMA U,PU,N,T Census Metropolitan Area or Census Agglomeration name, PU Uniquely identifies the provincial or territorial part of a census metropolitan area or census agglomeration (composed of the 2-digit province or territory unique identifier followed by the 3-digit census metropolitan area or census agglomeration unique identifier)\n",
    "* CT U,N Census Tract within census metropolitan area/census agglomeration\n",
    "* ADA U Aggregate dissemination area unique identifier\n"
   ]
  },
  {
   "cell_type": "code",
   "execution_count": 72,
   "metadata": {},
   "outputs": [
    {
     "data": {
      "text/plain": [
       "'lda_000b16g_e'"
      ]
     },
     "execution_count": 72,
     "metadata": {},
     "output_type": "execute_result"
    }
   ],
   "source": [
    "s5 = s2.GetName()\n",
    "s5"
   ]
  },
  {
   "cell_type": "code",
   "execution_count": 139,
   "metadata": {},
   "outputs": [
    {
     "data": {
      "text/plain": [
       "11020208"
      ]
     },
     "execution_count": 139,
     "metadata": {},
     "output_type": "execute_result"
    }
   ],
   "source": [
    "s2[1016].GetField(\"DAUID\")"
   ]
  },
  {
   "cell_type": "code",
   "execution_count": 84,
   "metadata": {},
   "outputs": [
    {
     "ename": "AttributeError",
     "evalue": "GetFieldDefn",
     "output_type": "error",
     "traceback": [
      "\u001b[1;31m---------------------------------------------------------------------------\u001b[0m",
      "\u001b[1;31mAttributeError\u001b[0m                            Traceback (most recent call last)",
      "\u001b[1;32m<ipython-input-84-8cf79282cf43>\u001b[0m in \u001b[0;36m<module>\u001b[1;34m\u001b[0m\n\u001b[0;32m      3\u001b[0m \u001b[1;33m\u001b[0m\u001b[0m\n\u001b[0;32m      4\u001b[0m \u001b[1;32mfor\u001b[0m \u001b[0mi\u001b[0m \u001b[1;32min\u001b[0m \u001b[0mrange\u001b[0m\u001b[1;33m(\u001b[0m\u001b[0ms6\u001b[0m\u001b[1;33m.\u001b[0m\u001b[0mGetFieldCount\u001b[0m\u001b[1;33m(\u001b[0m\u001b[1;33m)\u001b[0m\u001b[1;33m)\u001b[0m\u001b[1;33m:\u001b[0m\u001b[1;33m\u001b[0m\u001b[1;33m\u001b[0m\u001b[0m\n\u001b[1;32m----> 5\u001b[1;33m     \u001b[0mprint\u001b[0m\u001b[1;33m(\u001b[0m\u001b[0ms6\u001b[0m\u001b[1;33m.\u001b[0m\u001b[0mGetFieldDefn\u001b[0m\u001b[1;33m(\u001b[0m\u001b[0mi\u001b[0m\u001b[1;33m)\u001b[0m\u001b[1;33m.\u001b[0m\u001b[0mGetName\u001b[0m\u001b[1;33m(\u001b[0m\u001b[1;33m)\u001b[0m\u001b[1;33m)\u001b[0m\u001b[1;33m\u001b[0m\u001b[1;33m\u001b[0m\u001b[0m\n\u001b[0m",
      "\u001b[1;32m~\\anaconda3\\envs\\Coursera\\lib\\site-packages\\osgeo\\ogr.py\u001b[0m in \u001b[0;36m__getattr__\u001b[1;34m(self, key)\u001b[0m\n\u001b[0;32m   4384\u001b[0m             \u001b[0midx\u001b[0m \u001b[1;33m=\u001b[0m \u001b[0mself\u001b[0m\u001b[1;33m.\u001b[0m\u001b[0mGetGeomFieldIndex\u001b[0m\u001b[1;33m(\u001b[0m\u001b[0mkey\u001b[0m\u001b[1;33m)\u001b[0m\u001b[1;33m\u001b[0m\u001b[1;33m\u001b[0m\u001b[0m\n\u001b[0;32m   4385\u001b[0m             \u001b[1;32mif\u001b[0m \u001b[0midx\u001b[0m \u001b[1;33m<\u001b[0m \u001b[1;36m0\u001b[0m\u001b[1;33m:\u001b[0m\u001b[1;33m\u001b[0m\u001b[1;33m\u001b[0m\u001b[0m\n\u001b[1;32m-> 4386\u001b[1;33m                 \u001b[1;32mraise\u001b[0m \u001b[0mAttributeError\u001b[0m\u001b[1;33m(\u001b[0m\u001b[0mkey\u001b[0m\u001b[1;33m)\u001b[0m\u001b[1;33m\u001b[0m\u001b[1;33m\u001b[0m\u001b[0m\n\u001b[0m\u001b[0;32m   4387\u001b[0m             \u001b[1;32melse\u001b[0m\u001b[1;33m:\u001b[0m\u001b[1;33m\u001b[0m\u001b[1;33m\u001b[0m\u001b[0m\n\u001b[0;32m   4388\u001b[0m                 \u001b[1;32mreturn\u001b[0m \u001b[0mself\u001b[0m\u001b[1;33m.\u001b[0m\u001b[0mGetGeomFieldRef\u001b[0m\u001b[1;33m(\u001b[0m\u001b[0midx\u001b[0m\u001b[1;33m)\u001b[0m\u001b[1;33m\u001b[0m\u001b[1;33m\u001b[0m\u001b[0m\n",
      "\u001b[1;31mAttributeError\u001b[0m: GetFieldDefn"
     ]
    }
   ],
   "source": [
    "s6 = s2[1010]\n",
    "s6.GetFieldCount()\n",
    "\n",
    "for i in range(s6.GetFieldCount()):\n",
    "    print(s6.GetFieldDefn(i).GetName())"
   ]
  },
  {
   "cell_type": "code",
   "execution_count": 69,
   "metadata": {},
   "outputs": [
    {
     "ename": "AttributeError",
     "evalue": "'str' object has no attribute 'GetField'",
     "output_type": "error",
     "traceback": [
      "\u001b[1;31m---------------------------------------------------------------------------\u001b[0m",
      "\u001b[1;31mAttributeError\u001b[0m                            Traceback (most recent call last)",
      "\u001b[1;32m<ipython-input-69-a199e2023d04>\u001b[0m in \u001b[0;36m<module>\u001b[1;34m\u001b[0m\n\u001b[0;32m      1\u001b[0m \u001b[1;32mfor\u001b[0m \u001b[0mfeature\u001b[0m \u001b[1;32min\u001b[0m \u001b[0ms2\u001b[0m\u001b[1;33m[\u001b[0m\u001b[1;36m0\u001b[0m\u001b[1;33m]\u001b[0m\u001b[1;33m:\u001b[0m\u001b[1;33m\u001b[0m\u001b[1;33m\u001b[0m\u001b[0m\n\u001b[1;32m----> 2\u001b[1;33m     \u001b[0mprint\u001b[0m\u001b[1;33m(\u001b[0m\u001b[0mfeature\u001b[0m\u001b[1;33m.\u001b[0m\u001b[0mGetField\u001b[0m\u001b[1;33m(\u001b[0m\u001b[1;34m\"CSDNAME\"\u001b[0m\u001b[1;33m)\u001b[0m\u001b[1;33m)\u001b[0m\u001b[1;33m\u001b[0m\u001b[1;33m\u001b[0m\u001b[0m\n\u001b[0m",
      "\u001b[1;31mAttributeError\u001b[0m: 'str' object has no attribute 'GetField'"
     ]
    }
   ],
   "source": [
    "for feature in s2:\n",
    "    print(feature.GetField(\"CSDNAME\"))"
   ]
  },
  {
   "cell_type": "code",
   "execution_count": 53,
   "metadata": {},
   "outputs": [
    {
     "ename": "SyntaxError",
     "evalue": "invalid syntax (<ipython-input-53-2897f5d30313>, line 3)",
     "output_type": "error",
     "traceback": [
      "\u001b[1;36m  File \u001b[1;32m\"<ipython-input-53-2897f5d30313>\"\u001b[1;36m, line \u001b[1;32m3\u001b[0m\n\u001b[1;33m    print geom.Centroid().ExportToWkt()\u001b[0m\n\u001b[1;37m             ^\u001b[0m\n\u001b[1;31mSyntaxError\u001b[0m\u001b[1;31m:\u001b[0m invalid syntax\n"
     ]
    }
   ],
   "source": [
    "for feature in s2:\n",
    "    geom = feature.GetGeometryRef()\n",
    "    print geom.Centroid().ExportToWkt()"
   ]
  }
 ],
 "metadata": {
  "kernelspec": {
   "display_name": "Python 3 (ipykernel)",
   "language": "python",
   "name": "python3"
  },
  "language_info": {
   "codemirror_mode": {
    "name": "ipython",
    "version": 3
   },
   "file_extension": ".py",
   "mimetype": "text/x-python",
   "name": "python",
   "nbconvert_exporter": "python",
   "pygments_lexer": "ipython3",
   "version": "3.7.8"
  }
 },
 "nbformat": 4,
 "nbformat_minor": 4
}
